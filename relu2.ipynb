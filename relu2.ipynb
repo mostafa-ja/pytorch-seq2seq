{
  "nbformat": 4,
  "nbformat_minor": 0,
  "metadata": {
    "colab": {
      "provenance": [],
      "authorship_tag": "ABX9TyPKLKrGWCPLUQsA5ttVv1eM",
      "include_colab_link": true
    },
    "kernelspec": {
      "name": "python3",
      "display_name": "Python 3"
    },
    "language_info": {
      "name": "python"
    }
  },
  "cells": [
    {
      "cell_type": "markdown",
      "metadata": {
        "id": "view-in-github",
        "colab_type": "text"
      },
      "source": [
        "<a href=\"https://colab.research.google.com/github/mostafa-ja/pytorch-seq2seq/blob/master/relu2.ipynb\" target=\"_parent\"><img src=\"https://colab.research.google.com/assets/colab-badge.svg\" alt=\"Open In Colab\"/></a>"
      ]
    },
    {
      "cell_type": "code",
      "execution_count": 491,
      "metadata": {
        "id": "W8uMTXm7OzBk"
      },
      "outputs": [],
      "source": [
        "import torch\n",
        "import torchvision\n",
        "import torchvision.transforms as transforms\n",
        "import matplotlib.pyplot as plt\n",
        "import torch.nn as nn\n",
        "import numpy as np"
      ]
    },
    {
      "cell_type": "code",
      "source": [
        "x=np.linspace(-2.0, 2.0, num=200)\n",
        "x= x[:, np.newaxis]\n",
        "x.shape"
      ],
      "metadata": {
        "colab": {
          "base_uri": "https://localhost:8080/"
        },
        "id": "-A-jvdFzOT7f",
        "outputId": "73575f04-1020-4834-94ae-fecf26e069ac"
      },
      "execution_count": 492,
      "outputs": [
        {
          "output_type": "execute_result",
          "data": {
            "text/plain": [
              "(200, 1)"
            ]
          },
          "metadata": {},
          "execution_count": 492
        }
      ]
    },
    {
      "cell_type": "code",
      "source": [
        "y = np.sin(x)\n",
        "y.shape"
      ],
      "metadata": {
        "colab": {
          "base_uri": "https://localhost:8080/"
        },
        "id": "ugp0gPIKQnum",
        "outputId": "9c4bd9a3-c597-47d1-a058-4c32e07734f5"
      },
      "execution_count": 493,
      "outputs": [
        {
          "output_type": "execute_result",
          "data": {
            "text/plain": [
              "(200, 1)"
            ]
          },
          "metadata": {},
          "execution_count": 493
        }
      ]
    },
    {
      "cell_type": "code",
      "source": [
        "plt.plot(x,y)"
      ],
      "metadata": {
        "colab": {
          "base_uri": "https://localhost:8080/",
          "height": 282
        },
        "id": "Yq5xZyUvQxmt",
        "outputId": "c40c6f6f-c0f2-4fbb-984d-79d91a2532c1"
      },
      "execution_count": 494,
      "outputs": [
        {
          "output_type": "execute_result",
          "data": {
            "text/plain": [
              "[<matplotlib.lines.Line2D at 0x7faa8e4a5090>]"
            ]
          },
          "metadata": {},
          "execution_count": 494
        },
        {
          "output_type": "display_data",
          "data": {
            "text/plain": [
              "<Figure size 432x288 with 1 Axes>"
            ],
            "image/png": "[encoded data removed]"
          },
          "metadata": {
            "needs_background": "light"
          }
        }
      ]
    },
    {
      "cell_type": "code",
      "source": [
        "X_train = torch.from_numpy(x.astype(np.float32))\n",
        "y_train = torch.from_numpy(y.astype(np.float32))"
      ],
      "metadata": {
        "id": "ojwcijCqR2O_"
      },
      "execution_count": 495,
      "outputs": []
    },
    {
      "cell_type": "code",
      "source": [
        "# hyper parameters\n",
        "input_size = 1 \n",
        "hidden_size1 = 10\n",
        "hidden_size2 = 5\n",
        "num_class = 1\n"
      ],
      "metadata": {
        "id": "y6ui6176Pn0o"
      },
      "execution_count": 496,
      "outputs": []
    },
    {
      "cell_type": "code",
      "source": [
        "def relu2(x,b):\n",
        "  a = torch.maximum(torch.tensor([0]),x)\n",
        "  return a*(a<b)"
      ],
      "metadata": {
        "id": "LVIkHI8WKoXt"
      },
      "execution_count": 497,
      "outputs": []
    },
    {
      "cell_type": "code",
      "source": [
        "a=torch.tensor([[1,-2,3],[4,5,6]])\n",
        "relu2(a,4)"
      ],
      "metadata": {
        "colab": {
          "base_uri": "https://localhost:8080/"
        },
        "id": "utzGV0KgL6x0",
        "outputId": "5187e0a1-da2e-4eb4-cd93-5f19225eb8f5"
      },
      "execution_count": 498,
      "outputs": [
        {
          "output_type": "execute_result",
          "data": {
            "text/plain": [
              "tensor([[1, 0, 3],\n",
              "        [0, 0, 0]])"
            ]
          },
          "metadata": {},
          "execution_count": 498
        }
      ]
    },
    {
      "cell_type": "code",
      "source": [
        "class NeuralNet(nn.Module):\n",
        "  def __init__(self,input_size,hidden_size1,hidden_size2,num_class):\n",
        "    super().__init__()\n",
        "    self.linear1 = nn.Linear(input_size,hidden_size1)\n",
        "    self.relu = nn.ReLU()\n",
        "    self.linear2 = nn.Linear(hidden_size1,hidden_size2)\n",
        "    self.linear3 = nn.Linear(hidden_size2,num_class)\n",
        "  def forward(self,x):\n",
        "    out = self.linear1(x)\n",
        "    #out = self.relu(out)\n",
        "    out = relu2(out,4)\n",
        "    out = self.linear2(out)\n",
        "    #out = self.relu(out)\n",
        "    out = relu2(out,4)\n",
        "    y_pred = self.linear3(out)\n",
        "    return y_pred"
      ],
      "metadata": {
        "id": "OnUmWCOkVvop"
      },
      "execution_count": 499,
      "outputs": []
    },
    {
      "cell_type": "code",
      "source": [
        "model = NeuralNet(input_size=input_size,hidden_size1=hidden_size1,hidden_size2=hidden_size2,num_class=num_class)"
      ],
      "metadata": {
        "id": "g7zcr-zZXSD7"
      },
      "execution_count": 500,
      "outputs": []
    },
    {
      "cell_type": "code",
      "source": [
        "learning_rate = 0.05\n",
        "criterion = nn.MSELoss()\n",
        "optimizer = torch.optim.SGD(model.parameters(),lr=learning_rate)"
      ],
      "metadata": {
        "id": "ULwD_04wXmax"
      },
      "execution_count": 501,
      "outputs": []
    },
    {
      "cell_type": "code",
      "source": [
        "n_epochs = 500\n",
        "\n",
        "for epoch in range(n_epochs):\n",
        "\n",
        "  #forward pass\n",
        "  y_pred = model(X_train)\n",
        "\n",
        "  #loss\n",
        "  loss = criterion(y_pred,y_train)\n",
        "\n",
        "  #backward pass\n",
        "  loss.backward()\n",
        "\n",
        "  #gradient update\n",
        "  optimizer.step()\n",
        "  optimizer.zero_grad()\n",
        "\n",
        "  if (epoch+1) % 10 == 0 :\n",
        "    print(f'epoch = {epoch+1} , loss = {loss.item():.4f} ')\n",
        "\n"
      ],
      "metadata": {
        "colab": {
          "base_uri": "https://localhost:8080/"
        },
        "id": "KIGcmhf3YKOM",
        "outputId": "2be9b1a3-cbea-4b18-fc0e-402a2a58abd6"
      },
      "execution_count": 502,
      "outputs": [
        {
          "output_type": "stream",
          "name": "stdout",
          "text": [
            "epoch = 10 , loss = 0.2958 \n",
            "epoch = 20 , loss = 0.0860 \n",
            "epoch = 30 , loss = 0.0249 \n",
            "epoch = 40 , loss = 0.0150 \n",
            "epoch = 50 , loss = 0.0129 \n",
            "epoch = 60 , loss = 0.0119 \n",
            "epoch = 70 , loss = 0.0111 \n",
            "epoch = 80 , loss = 0.0106 \n",
            "epoch = 90 , loss = 0.0101 \n",
            "epoch = 100 , loss = 0.0097 \n",
            "epoch = 110 , loss = 0.0094 \n",
            "epoch = 120 , loss = 0.0091 \n",
            "epoch = 130 , loss = 0.0088 \n",
            "epoch = 140 , loss = 0.0086 \n",
            "epoch = 150 , loss = 0.0084 \n",
            "epoch = 160 , loss = 0.0082 \n",
            "epoch = 170 , loss = 0.0080 \n",
            "epoch = 180 , loss = 0.0079 \n",
            "epoch = 190 , loss = 0.0077 \n",
            "epoch = 200 , loss = 0.0076 \n",
            "epoch = 210 , loss = 0.0074 \n",
            "epoch = 220 , loss = 0.0073 \n",
            "epoch = 230 , loss = 0.0071 \n",
            "epoch = 240 , loss = 0.0070 \n",
            "epoch = 250 , loss = 0.0069 \n",
            "epoch = 260 , loss = 0.0068 \n",
            "epoch = 270 , loss = 0.0066 \n",
            "epoch = 280 , loss = 0.0065 \n",
            "epoch = 290 , loss = 0.0064 \n",
            "epoch = 300 , loss = 0.0063 \n",
            "epoch = 310 , loss = 0.0062 \n",
            "epoch = 320 , loss = 0.0061 \n",
            "epoch = 330 , loss = 0.0060 \n",
            "epoch = 340 , loss = 0.0059 \n",
            "epoch = 350 , loss = 0.0058 \n",
            "epoch = 360 , loss = 0.0057 \n",
            "epoch = 370 , loss = 0.0056 \n",
            "epoch = 380 , loss = 0.0055 \n",
            "epoch = 390 , loss = 0.0054 \n",
            "epoch = 400 , loss = 0.0054 \n",
            "epoch = 410 , loss = 0.0053 \n",
            "epoch = 420 , loss = 0.0052 \n",
            "epoch = 430 , loss = 0.0051 \n",
            "epoch = 440 , loss = 0.0050 \n",
            "epoch = 450 , loss = 0.0050 \n",
            "epoch = 460 , loss = 0.0049 \n",
            "epoch = 470 , loss = 0.0048 \n",
            "epoch = 480 , loss = 0.0047 \n",
            "epoch = 490 , loss = 0.0047 \n",
            "epoch = 500 , loss = 0.0046 \n"
          ]
        }
      ]
    },
    {
      "cell_type": "code",
      "source": [
        "plt.scatter(X_train.detach().numpy(),model(X_train).detach().numpy())\n",
        "plt.plot(x,y,c='r')"
      ],
      "metadata": {
        "colab": {
          "base_uri": "https://localhost:8080/",
          "height": 282
        },
        "id": "n27wxXSgWoCG",
        "outputId": "30390363-8083-47bd-8c60-22edb147fa81"
      },
      "execution_count": 503,
      "outputs": [
        {
          "output_type": "execute_result",
          "data": {
            "text/plain": [
              "[<matplotlib.lines.Line2D at 0x7faa8e370490>]"
            ]
          },
          "metadata": {},
          "execution_count": 503
        },
        {
          "output_type": "display_data",
          "data": {
            "text/plain": [
              "<Figure size 432x288 with 1 Axes>"
            ],
            "image/png": "[encoded data removed]"
          },
          "metadata": {
            "needs_background": "light"
          }
        }
      ]
    }
  ]
}